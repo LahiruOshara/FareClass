{
 "cells": [
  {
   "cell_type": "code",
   "execution_count": 1,
   "metadata": {},
   "outputs": [],
   "source": [
    "import numpy as np \n",
    "import pandas as pd \n",
    "import seaborn as sns \n",
    "import matplotlib.pyplot as plt\n",
    "import time\n",
    "import math\n",
    "from sklearn.impute import SimpleImputer\n",
    "from sklearn.model_selection import train_test_split\n",
    "from sklearn.metrics import f1_score,confusion_matrix\n",
    "\n",
    "\n",
    "def cal_dist(lat1,lat2,lon1,lon2):\n",
    "    R = 6373.0\n",
    "    \n",
    "    lat1 = np.deg2rad(lat1)\n",
    "    lon1 = np.deg2rad(lon1)\n",
    "    lat2 = np.deg2rad(lat2)\n",
    "    lon2 = np.deg2rad(lon2)\n",
    "    \n",
    "    dlon = lon2 - lon1\n",
    "    dlat = lat2 - lat1\n",
    "    \n",
    "    a = np.sin(dlat / 2)**2 + np.cos(lat1) * np.cos(lat2) * np.sin(dlon / 2)**2\n",
    "    c = 2 * np.arctan2(np.sqrt(a), np.sqrt(1 - a))\n",
    "    return R * c\n",
    "\n",
    "train = pd.read_csv('train.csv')\n",
    "test = pd.read_csv('test.csv')\n",
    "\n",
    "trip_ids = test.tripid\n",
    "\n",
    "train['distance'] = cal_dist(train[\"pick_lat\"],train['drop_lat'],train['pick_lon'],train['drop_lon'])\n",
    "test['distance'] = cal_dist(test[\"pick_lat\"],test['drop_lat'],test['pick_lon'],test['drop_lon'])\n",
    "\n",
    "train = train[train['distance']<55].dropna()\n",
    "\n",
    "train['pickup_time'] = pd.to_datetime(train['pickup_time'])\n",
    "train['drop_time'] = pd.to_datetime(train['drop_time'])\n",
    "\n",
    "test['pickup_time'] = pd.to_datetime(test['pickup_time'])\n",
    "test['drop_time'] = pd.to_datetime(test['drop_time'])\n",
    "\n",
    "\n",
    "train['new_duration'] = (train['drop_time']-train['pickup_time']).dt.total_seconds()\n",
    "test['new_duration'] = (test['drop_time']-test['pickup_time']).dt.total_seconds()\n",
    "\n",
    "train = train[train['new_duration']<10000].dropna()\n",
    "\n",
    "train['no_duration_diff_exists'] = abs(train['duration']-train['new_duration'])<60\n",
    "test['no_duration_diff_exists'] = abs(test['duration']-test['new_duration'])<60\n",
    "\n",
    "drop_list = ['tripid','pick_lon','pick_lat','drop_lon','drop_lat','pickup_time','drop_time']\n",
    "train = train.drop(drop_list,axis=1) \n",
    "test = test.drop(drop_list,axis=1) \n",
    "\n",
    "i_columns = train.columns.drop(['label','no_duration_diff_exists'])\n",
    "for col in i_columns:\n",
    "    train[col] = pd.to_numeric(train[col])\n",
    "    if(col!='label'):\n",
    "        test[col] = pd.to_numeric(test[col])\n",
    "        \n",
    "train['fare_without_waiting'] = train['fare']-train['meter_waiting_fare']\n",
    "test['fare_without_waiting'] = test['fare']-test['meter_waiting_fare']\n",
    "\n",
    "train = train[train['fare']<2000].dropna()\n",
    "\n",
    "train = train.drop([\"meter_waiting_till_pickup\"],axis =1)\n",
    "test = test.drop([\"meter_waiting_till_pickup\"],axis =1)\n",
    "\n",
    "train[\"duration_without_waiting\"] = train[\"duration\"]-train[\"meter_waiting\"]\n",
    "test[\"duration_without_waiting\"] = test[\"duration\"]-test[\"meter_waiting\"]\n",
    "\n",
    "train['fare_per_distance'] = train['fare_without_waiting']/train['distance']\n",
    "train['fare_per_sec'] = train['fare_without_waiting']/train['duration']\n",
    "train['distance_duration'] = train['distance']/train['duration_without_waiting']\n",
    "\n",
    "test['fare_per_distance'] = test['fare_without_waiting']/test['distance']\n",
    "test['fare_per_sec'] = test['fare_without_waiting']/test['duration']\n",
    "test['distance_duration'] = test['distance']/test['duration_without_waiting']\n",
    "\n",
    "# (fare - waiting_fare) / distance\n",
    "# (fare - waiting_fare) / (duration - meter_waiting)\n",
    "# distance / (duration - meter_waiting)\n",
    "# meter_waiting / duration\n",
    "# additional_fare / distance \n",
    "# additional_fare / fare+additional_fare"
   ]
  },
  {
   "cell_type": "code",
   "execution_count": 2,
   "metadata": {},
   "outputs": [],
   "source": [
    "train = train[train['distance']!=0]\n",
    "train = train[train['duration']!=0]\n",
    "train = train[train['duration_without_waiting']>0]"
   ]
  },
  {
   "cell_type": "code",
   "execution_count": 3,
   "metadata": {},
   "outputs": [
    {
     "data": {
      "text/plain": [
       "count    16769.000000\n",
       "mean      1043.788956\n",
       "std        869.157565\n",
       "min          1.000000\n",
       "25%        446.000000\n",
       "50%        807.000000\n",
       "75%       1391.000000\n",
       "max       8389.000000\n",
       "Name: duration_without_waiting, dtype: float64"
      ]
     },
     "execution_count": 3,
     "metadata": {},
     "output_type": "execute_result"
    }
   ],
   "source": [
    "train['duration_without_waiting'].describe()"
   ]
  },
  {
   "cell_type": "code",
   "execution_count": 4,
   "metadata": {},
   "outputs": [],
   "source": [
    "imputer = SimpleImputer(strategy='constant',fill_value = 0)\n",
    "imputed_df_train = pd.DataFrame(imputer.fit_transform(train))\n",
    "imputed_df_test = pd.DataFrame(imputer.fit_transform(test))\n",
    "\n",
    "imputed_df_train.columns = train.columns\n",
    "imputed_df_test.columns = test.columns\n",
    "\n",
    "i_columns = train.columns.drop(['label'])\n",
    "for col in i_columns:\n",
    "    imputed_df_train[col] = pd.to_numeric(imputed_df_train[col])\n",
    "    if(col=='no_duration_diff_exists'):\n",
    "        imputed_df_train[col] = imputed_df_train[col].astype(int)\n",
    "        imputed_df_test[col] = imputed_df_test[col].astype(int)\n",
    "    if(col!='label'):\n",
    "        imputed_df_test[col] = pd.to_numeric(imputed_df_test[col])\n",
    "        \n",
    "feature_cols = train.columns.drop('label')\n",
    "label_dict = {\"correct\":1,\"incorrect\":0}\n",
    "imputed_df_train['label'] = imputed_df_train.label.replace(label_dict)"
   ]
  },
  {
   "cell_type": "code",
   "execution_count": 6,
   "metadata": {},
   "outputs": [
    {
     "name": "stdout",
     "output_type": "stream",
     "text": [
      "F1 score is:  0.9755075733161457\n"
     ]
    },
    {
     "data": {
      "image/png": "[encoded data removed]",
      "text/plain": [
       "<Figure size 432x288 with 2 Axes>"
      ]
     },
     "metadata": {
      "needs_background": "light"
     },
     "output_type": "display_data"
    }
   ],
   "source": [
    "#  Classification using XGBoost \n",
    "import xgboost as xgb\n",
    "\n",
    "X_train, X_test, y_train, y_test = train_test_split(imputed_df_train[feature_cols],\n",
    "                                                    imputed_df_train['label'], \n",
    "                                                    test_size=0.2,\n",
    "                                                    shuffle=True,\n",
    "                                                    stratify=imputed_df_train['label'],\n",
    "                                                    random_state=40)\n",
    "params = {'subsample': 1,\n",
    " 'reg_lambda': 3,\n",
    " 'reg_alpha': 0.9,\n",
    " 'n_estimators': 200,\n",
    " 'min_child_weight': 2,\n",
    " 'max_depth': 8,\n",
    " 'learning_rate': 0.1,\n",
    " 'gamma': 1,\n",
    " 'colsample_bytree': 0.7}\n",
    "\n",
    "clf_base = xgb.XGBClassifier(random_state=30,params = params)      \n",
    "clf_base = clf_base.fit(X_train,y_train)\n",
    "\n",
    "ac = f1_score(y_test,clf_base.predict(X_test))\n",
    "print('F1 score is: ',ac)\n",
    "cm = confusion_matrix(y_test,clf_base.predict(X_test))\n",
    "sns.heatmap(cm,annot=True,fmt=\"d\");"
   ]
  },
  {
   "cell_type": "code",
   "execution_count": 7,
   "metadata": {},
   "outputs": [],
   "source": [
    "#  Classification using XGBoost \n",
    "import xgboost as xgb\n",
    "\n",
    "X_train = imputed_df_train[feature_cols]\n",
    "y_train = imputed_df_train['label']\n",
    "                                                 \n",
    "params = {'subsample': 1,\n",
    " 'reg_lambda': 3,\n",
    " 'reg_alpha': 0.9,\n",
    " 'n_estimators': 200,\n",
    " 'min_child_weight': 2,\n",
    " 'max_depth': 8,\n",
    " 'learning_rate': 0.1,\n",
    " 'gamma': 1,\n",
    " 'colsample_bytree': 0.7}\n",
    "\n",
    "clf_final = xgb.XGBClassifier(random_state=30,params = params)      \n",
    "clf_final = clf_final.fit(X_train,y_train)"
   ]
  },
  {
   "cell_type": "code",
   "execution_count": 8,
   "metadata": {},
   "outputs": [],
   "source": [
    "final_pred = clf_final.predict(imputed_df_test)"
   ]
  },
  {
   "cell_type": "code",
   "execution_count": 9,
   "metadata": {},
   "outputs": [],
   "source": [
    "output = pd.DataFrame({'tripid': trip_ids,'prediction': final_pred})\n",
    "output.to_csv('submission.csv', index=False)"
   ]
  },
  {
   "cell_type": "code",
   "execution_count": null,
   "metadata": {},
   "outputs": [],
   "source": []
  }
 ],
 "metadata": {
  "kernelspec": {
   "display_name": "Python 3",
   "language": "python",
   "name": "python3"
  },
  "language_info": {
   "codemirror_mode": {
    "name": "ipython",
    "version": 3
   },
   "file_extension": ".py",
   "mimetype": "text/x-python",
   "name": "python",
   "nbconvert_exporter": "python",
   "pygments_lexer": "ipython3",
   "version": "3.7.7"
  }
 },
 "nbformat": 4,
 "nbformat_minor": 4
}
